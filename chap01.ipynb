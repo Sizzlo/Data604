{
 "cells": [
  {
   "cell_type": "code",
   "execution_count": 1,
   "metadata": {},
   "outputs": [
    {
     "name": "stdout",
     "output_type": "stream",
     "text": [
      "Collecting pint\n",
      "  Downloading Pint-0.12-py2.py3-none-any.whl (192 kB)\n",
      "Requirement already satisfied: setuptools in c:\\users\\tone\\anaconda3\\lib\\site-packages (from pint) (45.2.0.post20200210)\n",
      "Installing collected packages: pint\n",
      "Successfully installed pint-0.12\n"
     ]
    }
   ],
   "source": [
    "try:\n",
    "    import pint\n",
    "except ImportError:\n",
    "    !pip install pint\n",
    "    import pint"
   ]
  },
  {
   "cell_type": "code",
   "execution_count": 2,
   "metadata": {},
   "outputs": [
    {
     "name": "stdout",
     "output_type": "stream",
     "text": [
      "Collecting modsimpy\n",
      "  Downloading modsimpy-1.1.3.tar.gz (19 kB)\n",
      "Building wheels for collected packages: modsimpy\n",
      "  Building wheel for modsimpy (setup.py): started\n",
      "  Building wheel for modsimpy (setup.py): finished with status 'done'\n",
      "  Created wheel for modsimpy: filename=modsimpy-1.1.3-py3-none-any.whl size=20361 sha256=330176c06cd79683f9a7eedc281e64d99f3655aeaf4a5daf1f0b083b22fe1500\n",
      "  Stored in directory: c:\\users\\tone\\appdata\\local\\pip\\cache\\wheels\\bf\\5a\\b3\\5c1cd7a6233db7098df3275086cbd4466fb03ff579a4c0be10\n",
      "Successfully built modsimpy\n",
      "Installing collected packages: modsimpy\n",
      "Successfully installed modsimpy-1.1.3\n"
     ]
    }
   ],
   "source": [
    "try:\n",
    "    from modsim import *\n",
    "except ImportError:\n",
    "    !pip install modsimpy\n",
    "    from modsim import *"
   ]
  },
  {
   "cell_type": "code",
   "execution_count": 3,
   "metadata": {},
   "outputs": [
    {
     "name": "stdout",
     "output_type": "stream",
     "text": [
      "Python 3.7.6\n"
     ]
    }
   ],
   "source": [
    "!python --version"
   ]
  },
  {
   "cell_type": "code",
   "execution_count": 4,
   "metadata": {},
   "outputs": [
    {
     "name": "stdout",
     "output_type": "stream",
     "text": [
      "6.0.3\n"
     ]
    }
   ],
   "source": [
    "!jupyter-notebook --version"
   ]
  },
  {
   "cell_type": "code",
   "execution_count": 7,
   "metadata": {},
   "outputs": [],
   "source": [
    "# Configure Jupyter so figures appear in the notebook\n",
    "%matplotlib inline\n",
    "\n",
    "# Configure Jupyter to display the assigned value after an assignment\n",
    "%config InteractiveShell.ast_node_interactivity='last_expr_or_assign'"
   ]
  },
  {
   "cell_type": "code",
   "execution_count": 8,
   "metadata": {},
   "outputs": [
    {
     "data": {
      "text/html": [
       "\\[meter\\]"
      ],
      "text/latex": [
       "$\\mathrm{meter}$"
      ],
      "text/plain": [
       "<Unit('meter')>"
      ]
     },
     "execution_count": 8,
     "metadata": {},
     "output_type": "execute_result"
    }
   ],
   "source": [
    "meter = UNITS.meter"
   ]
  },
  {
   "cell_type": "code",
   "execution_count": 9,
   "metadata": {},
   "outputs": [
    {
     "data": {
      "text/html": [
       "\\[second\\]"
      ],
      "text/latex": [
       "$\\mathrm{second}$"
      ],
      "text/plain": [
       "<Unit('second')>"
      ]
     },
     "execution_count": 9,
     "metadata": {},
     "output_type": "execute_result"
    }
   ],
   "source": [
    "second = UNITS.second"
   ]
  },
  {
   "cell_type": "code",
   "execution_count": 10,
   "metadata": {},
   "outputs": [
    {
     "data": {
      "text/html": [
       "\\[9.8\\ meter/second^2\\]"
      ],
      "text/latex": [
       "$9.8\\ \\frac{\\mathrm{meter}}{\\mathrm{second}^{2}}$"
      ],
      "text/plain": [
       "9.8 <Unit('meter / second ** 2')>"
      ]
     },
     "execution_count": 10,
     "metadata": {},
     "output_type": "execute_result"
    }
   ],
   "source": [
    "a = 9.8 * meter / second**2"
   ]
  },
  {
   "cell_type": "code",
   "execution_count": 11,
   "metadata": {},
   "outputs": [
    {
     "data": {
      "text/html": [
       "\\[4\\ second\\]"
      ],
      "text/latex": [
       "$4\\ \\mathrm{second}$"
      ],
      "text/plain": [
       "4 <Unit('second')>"
      ]
     },
     "execution_count": 11,
     "metadata": {},
     "output_type": "execute_result"
    }
   ],
   "source": [
    "t = 4 * second"
   ]
  },
  {
   "cell_type": "code",
   "execution_count": 12,
   "metadata": {},
   "outputs": [
    {
     "data": {
      "text/html": [
       "\\[78.4\\ meter\\]"
      ],
      "text/latex": [
       "$78.4\\ \\mathrm{meter}$"
      ],
      "text/plain": [
       "78.4 <Unit('meter')>"
      ]
     },
     "execution_count": 12,
     "metadata": {},
     "output_type": "execute_result"
    }
   ],
   "source": [
    "a * t**2/2"
   ]
  },
  {
   "cell_type": "code",
   "execution_count": 13,
   "metadata": {},
   "outputs": [
    {
     "data": {
      "text/html": [
       "\\[381\\ meter\\]"
      ],
      "text/latex": [
       "$381\\ \\mathrm{meter}$"
      ],
      "text/plain": [
       "381 <Unit('meter')>"
      ]
     },
     "execution_count": 13,
     "metadata": {},
     "output_type": "execute_result"
    }
   ],
   "source": [
    "h = 381 * meter"
   ]
  },
  {
   "cell_type": "code",
   "execution_count": 14,
   "metadata": {},
   "outputs": [
    {
     "data": {
      "text/html": [
       "\\[8.817885349720552\\ second\\]"
      ],
      "text/latex": [
       "$8.817885349720552\\ \\mathrm{second}$"
      ],
      "text/plain": [
       "8.817885349720552 <Unit('second')>"
      ]
     },
     "execution_count": 14,
     "metadata": {},
     "output_type": "execute_result"
    }
   ],
   "source": [
    "\n",
    "t = sqrt(2 * h / a)"
   ]
  },
  {
   "cell_type": "code",
   "execution_count": 15,
   "metadata": {},
   "outputs": [
    {
     "data": {
      "text/html": [
       "\\[86.41527642726142\\ meter/second\\]"
      ],
      "text/latex": [
       "$86.41527642726142\\ \\frac{\\mathrm{meter}}{\\mathrm{second}}$"
      ],
      "text/plain": [
       "86.41527642726142 <Unit('meter / second')>"
      ]
     },
     "execution_count": 15,
     "metadata": {},
     "output_type": "execute_result"
    }
   ],
   "source": [
    "v = a * t"
   ]
  },
  {
   "cell_type": "code",
   "execution_count": 17,
   "metadata": {},
   "outputs": [
    {
     "data": {
      "text/html": [
       "\\[hour\\]"
      ],
      "text/latex": [
       "$\\mathrm{hour}$"
      ],
      "text/plain": [
       "<Unit('hour')>"
      ]
     },
     "execution_count": 17,
     "metadata": {},
     "output_type": "execute_result"
    }
   ],
   "source": [
    "mile = UNITS.mile\n",
    "hour = UNITS.hour"
   ]
  },
  {
   "cell_type": "code",
   "execution_count": 18,
   "metadata": {},
   "outputs": [
    {
     "data": {
      "text/html": [
       "\\[193.30546802805432\\ mile/hour\\]"
      ],
      "text/latex": [
       "$193.30546802805432\\ \\frac{\\mathrm{mile}}{\\mathrm{hour}}$"
      ],
      "text/plain": [
       "193.30546802805432 <Unit('mile / hour')>"
      ]
     },
     "execution_count": 18,
     "metadata": {},
     "output_type": "execute_result"
    }
   ],
   "source": [
    "v.to(mile/hour)"
   ]
  },
  {
   "cell_type": "code",
   "execution_count": 26,
   "metadata": {},
   "outputs": [
    {
     "data": {
      "text/html": [
       "\\[foot\\]"
      ],
      "text/latex": [
       "$\\mathrm{foot}$"
      ],
      "text/plain": [
       "<Unit('foot')>"
      ]
     },
     "execution_count": 26,
     "metadata": {},
     "output_type": "execute_result"
    }
   ],
   "source": [
    "foot = UNITS.foot\n",
    "\n"
   ]
  },
  {
   "cell_type": "code",
   "execution_count": 29,
   "metadata": {},
   "outputs": [
    {
     "data": {
      "text/html": [
       "\\[10\\ foot\\]"
      ],
      "text/latex": [
       "$10\\ \\mathrm{foot}$"
      ],
      "text/plain": [
       "10 <Unit('foot')>"
      ]
     },
     "execution_count": 29,
     "metadata": {},
     "output_type": "execute_result"
    }
   ],
   "source": [
    "pole_height = 10 * foot\n"
   ]
  },
  {
   "cell_type": "code",
   "execution_count": 30,
   "metadata": {},
   "outputs": [
    {
     "data": {
      "text/html": [
       "\\[384.048\\ meter\\]"
      ],
      "text/latex": [
       "$384.048\\ \\mathrm{meter}$"
      ],
      "text/plain": [
       "384.048 <Unit('meter')>"
      ]
     },
     "execution_count": 30,
     "metadata": {},
     "output_type": "execute_result"
    }
   ],
   "source": [
    "h + pole_height\n",
    "# converts to meter"
   ]
  },
  {
   "cell_type": "code",
   "execution_count": 31,
   "metadata": {},
   "outputs": [
    {
     "data": {
      "text/html": [
       "\\[1260.0\\ foot\\]"
      ],
      "text/latex": [
       "$1260.0\\ \\mathrm{foot}$"
      ],
      "text/plain": [
       "1260.0 <Unit('foot')>"
      ]
     },
     "execution_count": 31,
     "metadata": {},
     "output_type": "execute_result"
    }
   ],
   "source": [
    "pole_height + h\n",
    "# converts to foot"
   ]
  },
  {
   "cell_type": "code",
   "execution_count": 33,
   "metadata": {},
   "outputs": [
    {
     "data": {
      "text/html": [
       "\\[1.8367346938775508\\ second\\]"
      ],
      "text/latex": [
       "$1.8367346938775508\\ \\mathrm{second}$"
      ],
      "text/plain": [
       "1.8367346938775508 <Unit('second')>"
      ]
     },
     "execution_count": 33,
     "metadata": {},
     "output_type": "execute_result"
    }
   ],
   "source": [
    "# How long until the penny reaches 18 m/s with constant acceleration a.\n",
    "a = 9.8 * meter / second**2\n",
    "v = 18 * 𝑚𝑒𝑡𝑒𝑟/𝑠𝑒𝑐𝑜𝑛𝑑\n",
    "t = v/a"
   ]
  },
  {
   "cell_type": "code",
   "execution_count": 35,
   "metadata": {},
   "outputs": [
    {
     "data": {
      "text/html": [
       "\\[16.530612244897956\\ meter\\]"
      ],
      "text/latex": [
       "$16.530612244897956\\ \\mathrm{meter}$"
      ],
      "text/plain": [
       "16.530612244897956 <Unit('meter')>"
      ]
     },
     "execution_count": 35,
     "metadata": {},
     "output_type": "execute_result"
    }
   ],
   "source": [
    "# How far would the penny fall during that time?\n",
    "t = 1.8367346938775508 * 𝑠𝑒𝑐𝑜𝑛𝑑\n",
    "a * t**2/2\n"
   ]
  },
  {
   "cell_type": "code",
   "execution_count": 42,
   "metadata": {},
   "outputs": [
    {
     "data": {
      "text/html": [
       "\\[20.24829931972789\\ second\\]"
      ],
      "text/latex": [
       "$20.24829931972789\\ \\mathrm{second}$"
      ],
      "text/plain": [
       "20.24829931972789 <Unit('second')>"
      ]
     },
     "execution_count": 42,
     "metadata": {},
     "output_type": "execute_result"
    }
   ],
   "source": [
    "# How long to fall the remaining distance with constant velocity 18 m/s?\n",
    "# Due to force of air resistance preventing the penny from accelerating\n",
    "\n",
    "h = 381 * meter\n",
    "dist = h - 16.530612244897956 * 𝑚𝑒𝑡𝑒𝑟\n",
    "dist / v\n"
   ]
  },
  {
   "cell_type": "code",
   "execution_count": null,
   "metadata": {},
   "outputs": [],
   "source": []
  }
 ],
 "metadata": {
  "kernelspec": {
   "display_name": "Python 3",
   "language": "python",
   "name": "python3"
  },
  "language_info": {
   "codemirror_mode": {
    "name": "ipython",
    "version": 3
   },
   "file_extension": ".py",
   "mimetype": "text/x-python",
   "name": "python",
   "nbconvert_exporter": "python",
   "pygments_lexer": "ipython3",
   "version": "3.7.6"
  }
 },
 "nbformat": 4,
 "nbformat_minor": 4
}
